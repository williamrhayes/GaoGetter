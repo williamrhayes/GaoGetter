{
 "cells": [
  {
   "cell_type": "markdown",
   "metadata": {},
   "source": [
    "# Data Analysis and Predictions"
   ]
  },
  {
   "cell_type": "markdown",
   "metadata": {},
   "source": [
    "## Null Hypothesis Significance Test \n",
    "#### Is there a statistically significant difference between the prices bid by winning contractors and prices bid by losing contractors?"
   ]
  },
  {
   "cell_type": "code",
   "execution_count": 93,
   "metadata": {},
   "outputs": [
    {
     "data": {
      "text/html": [
       "<div>\n",
       "<style scoped>\n",
       "    .dataframe tbody tr th:only-of-type {\n",
       "        vertical-align: middle;\n",
       "    }\n",
       "\n",
       "    .dataframe tbody tr th {\n",
       "        vertical-align: top;\n",
       "    }\n",
       "\n",
       "    .dataframe thead th {\n",
       "        text-align: right;\n",
       "    }\n",
       "</style>\n",
       "<table border=\"1\" class=\"dataframe\">\n",
       "  <thead>\n",
       "    <tr style=\"text-align: right;\">\n",
       "      <th></th>\n",
       "      <th>FullFilerName</th>\n",
       "      <th>Filer</th>\n",
       "      <th>Winner</th>\n",
       "      <th>WinnerBid</th>\n",
       "      <th>FilerBid</th>\n",
       "      <th>Winner_technical</th>\n",
       "      <th>Filer_technical</th>\n",
       "      <th>Winner_past performance</th>\n",
       "      <th>Filer_past performance</th>\n",
       "      <th>Winner_personnel</th>\n",
       "      <th>Filer_personnel</th>\n",
       "      <th>Winner_management</th>\n",
       "      <th>Filer_management</th>\n",
       "      <th>Winner_experience</th>\n",
       "      <th>Filer_experience</th>\n",
       "      <th>Winner_small business</th>\n",
       "      <th>Filer_small business</th>\n",
       "      <th>URL</th>\n",
       "    </tr>\n",
       "  </thead>\n",
       "  <tbody>\n",
       "    <tr>\n",
       "      <th>0</th>\n",
       "      <td>Babel Street, Inc.</td>\n",
       "      <td>Babel</td>\n",
       "      <td>Dataminr</td>\n",
       "      <td>2.586611e+08</td>\n",
       "      <td>67500000.0</td>\n",
       "      <td>1.0</td>\n",
       "      <td>0.0</td>\n",
       "      <td>1.0</td>\n",
       "      <td>0.00</td>\n",
       "      <td>NaN</td>\n",
       "      <td>NaN</td>\n",
       "      <td>NaN</td>\n",
       "      <td>NaN</td>\n",
       "      <td>NaN</td>\n",
       "      <td>NaN</td>\n",
       "      <td>NaN</td>\n",
       "      <td>NaN</td>\n",
       "      <td>https://www.gao.gov/products/b-418730.5%2Cb-41...</td>\n",
       "    </tr>\n",
       "    <tr>\n",
       "      <th>1</th>\n",
       "      <td>American Electronics, Inc.</td>\n",
       "      <td>Amelex</td>\n",
       "      <td>PSI Pax</td>\n",
       "      <td>4.532778e+07</td>\n",
       "      <td>47905997.0</td>\n",
       "      <td>1.0</td>\n",
       "      <td>1.0</td>\n",
       "      <td>0.0</td>\n",
       "      <td>0.00</td>\n",
       "      <td>NaN</td>\n",
       "      <td>NaN</td>\n",
       "      <td>NaN</td>\n",
       "      <td>NaN</td>\n",
       "      <td>NaN</td>\n",
       "      <td>NaN</td>\n",
       "      <td>NaN</td>\n",
       "      <td>NaN</td>\n",
       "      <td>https://www.gao.gov/products/b-419659%2Cb-4196...</td>\n",
       "    </tr>\n",
       "    <tr>\n",
       "      <th>2</th>\n",
       "      <td>Qwest Government Services, Inc. d/b/a CenturyL...</td>\n",
       "      <td>CenturyLink</td>\n",
       "      <td>Verizon</td>\n",
       "      <td>1.576306e+08</td>\n",
       "      <td>283790911.0</td>\n",
       "      <td>0.5</td>\n",
       "      <td>0.5</td>\n",
       "      <td>1.0</td>\n",
       "      <td>1.00</td>\n",
       "      <td>0.0</td>\n",
       "      <td>0.0</td>\n",
       "      <td>NaN</td>\n",
       "      <td>NaN</td>\n",
       "      <td>NaN</td>\n",
       "      <td>NaN</td>\n",
       "      <td>NaN</td>\n",
       "      <td>NaN</td>\n",
       "      <td>https://www.gao.gov/products/b-419597%2Cb-4195...</td>\n",
       "    </tr>\n",
       "    <tr>\n",
       "      <th>3</th>\n",
       "      <td>Linchpin Solutions, Inc.</td>\n",
       "      <td>Linchpin</td>\n",
       "      <td>ACLC</td>\n",
       "      <td>3.320784e+07</td>\n",
       "      <td>33778624.0</td>\n",
       "      <td>0.5</td>\n",
       "      <td>0.5</td>\n",
       "      <td>1.0</td>\n",
       "      <td>0.00</td>\n",
       "      <td>NaN</td>\n",
       "      <td>NaN</td>\n",
       "      <td>NaN</td>\n",
       "      <td>NaN</td>\n",
       "      <td>NaN</td>\n",
       "      <td>NaN</td>\n",
       "      <td>NaN</td>\n",
       "      <td>NaN</td>\n",
       "      <td>https://www.gao.gov/products/b-419564</td>\n",
       "    </tr>\n",
       "    <tr>\n",
       "      <th>4</th>\n",
       "      <td>Manhattan Strategy Group, LLC</td>\n",
       "      <td>MSG</td>\n",
       "      <td>STGi</td>\n",
       "      <td>1.281063e+07</td>\n",
       "      <td>13295714.0</td>\n",
       "      <td>0.5</td>\n",
       "      <td>0.0</td>\n",
       "      <td>1.0</td>\n",
       "      <td>0.75</td>\n",
       "      <td>0.5</td>\n",
       "      <td>0.5</td>\n",
       "      <td>0.5</td>\n",
       "      <td>0.0</td>\n",
       "      <td>0.5</td>\n",
       "      <td>0.0</td>\n",
       "      <td>NaN</td>\n",
       "      <td>NaN</td>\n",
       "      <td>https://www.gao.gov/products/b-419040.3</td>\n",
       "    </tr>\n",
       "  </tbody>\n",
       "</table>\n",
       "</div>"
      ],
      "text/plain": [
       "                                       FullFilerName        Filer    Winner  \\\n",
       "0                                 Babel Street, Inc.        Babel  Dataminr   \n",
       "1                         American Electronics, Inc.       Amelex   PSI Pax   \n",
       "2  Qwest Government Services, Inc. d/b/a CenturyL...  CenturyLink   Verizon   \n",
       "3                           Linchpin Solutions, Inc.     Linchpin      ACLC   \n",
       "4                      Manhattan Strategy Group, LLC          MSG      STGi   \n",
       "\n",
       "      WinnerBid     FilerBid  Winner_technical  Filer_technical  \\\n",
       "0  2.586611e+08   67500000.0               1.0              0.0   \n",
       "1  4.532778e+07   47905997.0               1.0              1.0   \n",
       "2  1.576306e+08  283790911.0               0.5              0.5   \n",
       "3  3.320784e+07   33778624.0               0.5              0.5   \n",
       "4  1.281063e+07   13295714.0               0.5              0.0   \n",
       "\n",
       "   Winner_past performance  Filer_past performance  Winner_personnel  \\\n",
       "0                      1.0                    0.00               NaN   \n",
       "1                      0.0                    0.00               NaN   \n",
       "2                      1.0                    1.00               0.0   \n",
       "3                      1.0                    0.00               NaN   \n",
       "4                      1.0                    0.75               0.5   \n",
       "\n",
       "   Filer_personnel  Winner_management  Filer_management  Winner_experience  \\\n",
       "0              NaN                NaN               NaN                NaN   \n",
       "1              NaN                NaN               NaN                NaN   \n",
       "2              0.0                NaN               NaN                NaN   \n",
       "3              NaN                NaN               NaN                NaN   \n",
       "4              0.5                0.5               0.0                0.5   \n",
       "\n",
       "   Filer_experience  Winner_small business  Filer_small business  \\\n",
       "0               NaN                    NaN                   NaN   \n",
       "1               NaN                    NaN                   NaN   \n",
       "2               NaN                    NaN                   NaN   \n",
       "3               NaN                    NaN                   NaN   \n",
       "4               0.0                    NaN                   NaN   \n",
       "\n",
       "                                                 URL  \n",
       "0  https://www.gao.gov/products/b-418730.5%2Cb-41...  \n",
       "1  https://www.gao.gov/products/b-419659%2Cb-4196...  \n",
       "2  https://www.gao.gov/products/b-419597%2Cb-4195...  \n",
       "3              https://www.gao.gov/products/b-419564  \n",
       "4            https://www.gao.gov/products/b-419040.3  "
      ]
     },
     "execution_count": 93,
     "metadata": {},
     "output_type": "execute_result"
    }
   ],
   "source": [
    "import pandas as pd\n",
    "import numpy as np\n",
    "import matplotlib.pyplot as plt\n",
    "plt.style.use('seaborn')\n",
    "\n",
    "bids = pd.read_csv('./data/bids_numeric.csv')\n",
    "bids.head()"
   ]
  },
  {
   "cell_type": "code",
   "execution_count": 94,
   "metadata": {
    "scrolled": true
   },
   "outputs": [
    {
     "name": "stdout",
     "output_type": "stream",
     "text": [
      "<class 'pandas.core.frame.DataFrame'>\n",
      "RangeIndex: 670 entries, 0 to 669\n",
      "Data columns (total 18 columns):\n",
      " #   Column                   Non-Null Count  Dtype  \n",
      "---  ------                   --------------  -----  \n",
      " 0   FullFilerName            670 non-null    object \n",
      " 1   Filer                    670 non-null    object \n",
      " 2   Winner                   670 non-null    object \n",
      " 3   WinnerBid                670 non-null    float64\n",
      " 4   FilerBid                 670 non-null    float64\n",
      " 5   Winner_technical         484 non-null    float64\n",
      " 6   Filer_technical          483 non-null    float64\n",
      " 7   Winner_past performance  506 non-null    float64\n",
      " 8   Filer_past performance   505 non-null    float64\n",
      " 9   Winner_personnel         136 non-null    float64\n",
      " 10  Filer_personnel          136 non-null    float64\n",
      " 11  Winner_management        294 non-null    float64\n",
      " 12  Filer_management         293 non-null    float64\n",
      " 13  Winner_experience        164 non-null    float64\n",
      " 14  Filer_experience         162 non-null    float64\n",
      " 15  Winner_small business    84 non-null     float64\n",
      " 16  Filer_small business     82 non-null     float64\n",
      " 17  URL                      670 non-null    object \n",
      "dtypes: float64(14), object(4)\n",
      "memory usage: 94.3+ KB\n"
     ]
    }
   ],
   "source": [
    "bids.info()"
   ]
  },
  {
   "cell_type": "code",
   "execution_count": 95,
   "metadata": {},
   "outputs": [
    {
     "data": {
      "text/html": [
       "<div>\n",
       "<style scoped>\n",
       "    .dataframe tbody tr th:only-of-type {\n",
       "        vertical-align: middle;\n",
       "    }\n",
       "\n",
       "    .dataframe tbody tr th {\n",
       "        vertical-align: top;\n",
       "    }\n",
       "\n",
       "    .dataframe thead th {\n",
       "        text-align: right;\n",
       "    }\n",
       "</style>\n",
       "<table border=\"1\" class=\"dataframe\">\n",
       "  <thead>\n",
       "    <tr style=\"text-align: right;\">\n",
       "      <th></th>\n",
       "      <th>WinnerBid</th>\n",
       "      <th>FilerBid</th>\n",
       "      <th>Winner_technical</th>\n",
       "      <th>Filer_technical</th>\n",
       "      <th>Winner_past performance</th>\n",
       "      <th>Filer_past performance</th>\n",
       "      <th>Winner_personnel</th>\n",
       "      <th>Filer_personnel</th>\n",
       "      <th>Winner_management</th>\n",
       "      <th>Filer_management</th>\n",
       "      <th>Winner_experience</th>\n",
       "      <th>Filer_experience</th>\n",
       "      <th>Winner_small business</th>\n",
       "      <th>Filer_small business</th>\n",
       "    </tr>\n",
       "  </thead>\n",
       "  <tbody>\n",
       "    <tr>\n",
       "      <th>count</th>\n",
       "      <td>6.700000e+02</td>\n",
       "      <td>6.700000e+02</td>\n",
       "      <td>484.000000</td>\n",
       "      <td>483.000000</td>\n",
       "      <td>506.000000</td>\n",
       "      <td>505.000000</td>\n",
       "      <td>136.000000</td>\n",
       "      <td>136.000000</td>\n",
       "      <td>294.000000</td>\n",
       "      <td>293.000000</td>\n",
       "      <td>164.000000</td>\n",
       "      <td>162.000000</td>\n",
       "      <td>84.000000</td>\n",
       "      <td>82.000000</td>\n",
       "    </tr>\n",
       "    <tr>\n",
       "      <th>mean</th>\n",
       "      <td>1.924688e+08</td>\n",
       "      <td>1.911107e+08</td>\n",
       "      <td>0.644318</td>\n",
       "      <td>0.318634</td>\n",
       "      <td>0.610870</td>\n",
       "      <td>0.502376</td>\n",
       "      <td>0.604779</td>\n",
       "      <td>0.368382</td>\n",
       "      <td>0.582483</td>\n",
       "      <td>0.301365</td>\n",
       "      <td>0.625000</td>\n",
       "      <td>0.465432</td>\n",
       "      <td>0.451786</td>\n",
       "      <td>0.377439</td>\n",
       "    </tr>\n",
       "    <tr>\n",
       "      <th>std</th>\n",
       "      <td>6.930332e+08</td>\n",
       "      <td>6.890781e+08</td>\n",
       "      <td>0.359698</td>\n",
       "      <td>0.483380</td>\n",
       "      <td>0.436254</td>\n",
       "      <td>0.475213</td>\n",
       "      <td>0.388677</td>\n",
       "      <td>0.479614</td>\n",
       "      <td>0.372645</td>\n",
       "      <td>0.422361</td>\n",
       "      <td>0.382817</td>\n",
       "      <td>0.421815</td>\n",
       "      <td>0.412343</td>\n",
       "      <td>0.415008</td>\n",
       "    </tr>\n",
       "    <tr>\n",
       "      <th>min</th>\n",
       "      <td>3.600000e+04</td>\n",
       "      <td>1.600000e+04</td>\n",
       "      <td>-0.500000</td>\n",
       "      <td>-1.000000</td>\n",
       "      <td>-0.500000</td>\n",
       "      <td>-1.000000</td>\n",
       "      <td>-0.250000</td>\n",
       "      <td>-1.000000</td>\n",
       "      <td>-0.250000</td>\n",
       "      <td>-1.000000</td>\n",
       "      <td>-0.250000</td>\n",
       "      <td>-0.500000</td>\n",
       "      <td>0.000000</td>\n",
       "      <td>-0.250000</td>\n",
       "    </tr>\n",
       "    <tr>\n",
       "      <th>25%</th>\n",
       "      <td>1.572162e+07</td>\n",
       "      <td>1.576526e+07</td>\n",
       "      <td>0.500000</td>\n",
       "      <td>0.000000</td>\n",
       "      <td>0.000000</td>\n",
       "      <td>0.000000</td>\n",
       "      <td>0.437500</td>\n",
       "      <td>0.000000</td>\n",
       "      <td>0.500000</td>\n",
       "      <td>0.000000</td>\n",
       "      <td>0.500000</td>\n",
       "      <td>0.000000</td>\n",
       "      <td>0.000000</td>\n",
       "      <td>0.000000</td>\n",
       "    </tr>\n",
       "    <tr>\n",
       "      <th>50%</th>\n",
       "      <td>4.036144e+07</td>\n",
       "      <td>4.203722e+07</td>\n",
       "      <td>0.750000</td>\n",
       "      <td>0.500000</td>\n",
       "      <td>0.750000</td>\n",
       "      <td>0.750000</td>\n",
       "      <td>0.750000</td>\n",
       "      <td>0.500000</td>\n",
       "      <td>0.500000</td>\n",
       "      <td>0.500000</td>\n",
       "      <td>0.750000</td>\n",
       "      <td>0.500000</td>\n",
       "      <td>0.500000</td>\n",
       "      <td>0.500000</td>\n",
       "    </tr>\n",
       "    <tr>\n",
       "      <th>75%</th>\n",
       "      <td>1.215727e+08</td>\n",
       "      <td>1.259820e+08</td>\n",
       "      <td>1.000000</td>\n",
       "      <td>0.750000</td>\n",
       "      <td>1.000000</td>\n",
       "      <td>1.000000</td>\n",
       "      <td>1.000000</td>\n",
       "      <td>0.750000</td>\n",
       "      <td>1.000000</td>\n",
       "      <td>0.500000</td>\n",
       "      <td>1.000000</td>\n",
       "      <td>0.850000</td>\n",
       "      <td>1.000000</td>\n",
       "      <td>0.687500</td>\n",
       "    </tr>\n",
       "    <tr>\n",
       "      <th>max</th>\n",
       "      <td>9.980000e+09</td>\n",
       "      <td>9.700000e+09</td>\n",
       "      <td>1.000000</td>\n",
       "      <td>1.000000</td>\n",
       "      <td>1.000000</td>\n",
       "      <td>1.000000</td>\n",
       "      <td>1.000000</td>\n",
       "      <td>1.000000</td>\n",
       "      <td>1.000000</td>\n",
       "      <td>1.000000</td>\n",
       "      <td>1.000000</td>\n",
       "      <td>1.000000</td>\n",
       "      <td>1.000000</td>\n",
       "      <td>1.000000</td>\n",
       "    </tr>\n",
       "  </tbody>\n",
       "</table>\n",
       "</div>"
      ],
      "text/plain": [
       "          WinnerBid      FilerBid  Winner_technical  Filer_technical  \\\n",
       "count  6.700000e+02  6.700000e+02        484.000000       483.000000   \n",
       "mean   1.924688e+08  1.911107e+08          0.644318         0.318634   \n",
       "std    6.930332e+08  6.890781e+08          0.359698         0.483380   \n",
       "min    3.600000e+04  1.600000e+04         -0.500000        -1.000000   \n",
       "25%    1.572162e+07  1.576526e+07          0.500000         0.000000   \n",
       "50%    4.036144e+07  4.203722e+07          0.750000         0.500000   \n",
       "75%    1.215727e+08  1.259820e+08          1.000000         0.750000   \n",
       "max    9.980000e+09  9.700000e+09          1.000000         1.000000   \n",
       "\n",
       "       Winner_past performance  Filer_past performance  Winner_personnel  \\\n",
       "count               506.000000              505.000000        136.000000   \n",
       "mean                  0.610870                0.502376          0.604779   \n",
       "std                   0.436254                0.475213          0.388677   \n",
       "min                  -0.500000               -1.000000         -0.250000   \n",
       "25%                   0.000000                0.000000          0.437500   \n",
       "50%                   0.750000                0.750000          0.750000   \n",
       "75%                   1.000000                1.000000          1.000000   \n",
       "max                   1.000000                1.000000          1.000000   \n",
       "\n",
       "       Filer_personnel  Winner_management  Filer_management  \\\n",
       "count       136.000000         294.000000        293.000000   \n",
       "mean          0.368382           0.582483          0.301365   \n",
       "std           0.479614           0.372645          0.422361   \n",
       "min          -1.000000          -0.250000         -1.000000   \n",
       "25%           0.000000           0.500000          0.000000   \n",
       "50%           0.500000           0.500000          0.500000   \n",
       "75%           0.750000           1.000000          0.500000   \n",
       "max           1.000000           1.000000          1.000000   \n",
       "\n",
       "       Winner_experience  Filer_experience  Winner_small business  \\\n",
       "count         164.000000        162.000000              84.000000   \n",
       "mean            0.625000          0.465432               0.451786   \n",
       "std             0.382817          0.421815               0.412343   \n",
       "min            -0.250000         -0.500000               0.000000   \n",
       "25%             0.500000          0.000000               0.000000   \n",
       "50%             0.750000          0.500000               0.500000   \n",
       "75%             1.000000          0.850000               1.000000   \n",
       "max             1.000000          1.000000               1.000000   \n",
       "\n",
       "       Filer_small business  \n",
       "count             82.000000  \n",
       "mean               0.377439  \n",
       "std                0.415008  \n",
       "min               -0.250000  \n",
       "25%                0.000000  \n",
       "50%                0.500000  \n",
       "75%                0.687500  \n",
       "max                1.000000  "
      ]
     },
     "execution_count": 95,
     "metadata": {},
     "output_type": "execute_result"
    }
   ],
   "source": [
    "bids.describe()"
   ]
  },
  {
   "cell_type": "code",
   "execution_count": 96,
   "metadata": {},
   "outputs": [],
   "source": [
    "# Winners never recieved an unacceptable rating in any category\n",
    "# Average technical score for winning bids was 0.64, average for losing bids was 0.32"
   ]
  },
  {
   "cell_type": "markdown",
   "metadata": {},
   "source": [
    "### Null Hypothesis\n",
    "$H_{0}$ - There is no statistically significant difference between the average price bid by winners and losers of a contract.\n",
    "\n",
    "### Alternate Hypothesis\n",
    "$H_{a}$ - There is a statistically significant difference between the average price bid by winners and losers of a contract."
   ]
  },
  {
   "cell_type": "code",
   "execution_count": 97,
   "metadata": {},
   "outputs": [
    {
     "data": {
      "text/html": [
       "<div>\n",
       "<style scoped>\n",
       "    .dataframe tbody tr th:only-of-type {\n",
       "        vertical-align: middle;\n",
       "    }\n",
       "\n",
       "    .dataframe tbody tr th {\n",
       "        vertical-align: top;\n",
       "    }\n",
       "\n",
       "    .dataframe thead th {\n",
       "        text-align: right;\n",
       "    }\n",
       "</style>\n",
       "<table border=\"1\" class=\"dataframe\">\n",
       "  <thead>\n",
       "    <tr style=\"text-align: right;\">\n",
       "      <th></th>\n",
       "      <th>Filer</th>\n",
       "      <th>Winner</th>\n",
       "      <th>FilerBid</th>\n",
       "      <th>WinnerBid</th>\n",
       "    </tr>\n",
       "  </thead>\n",
       "  <tbody>\n",
       "    <tr>\n",
       "      <th>0</th>\n",
       "      <td>Babel</td>\n",
       "      <td>Dataminr</td>\n",
       "      <td>67500000.0</td>\n",
       "      <td>2.586611e+08</td>\n",
       "    </tr>\n",
       "    <tr>\n",
       "      <th>1</th>\n",
       "      <td>Amelex</td>\n",
       "      <td>PSI Pax</td>\n",
       "      <td>47905997.0</td>\n",
       "      <td>4.532778e+07</td>\n",
       "    </tr>\n",
       "    <tr>\n",
       "      <th>2</th>\n",
       "      <td>CenturyLink</td>\n",
       "      <td>Verizon</td>\n",
       "      <td>283790911.0</td>\n",
       "      <td>1.576306e+08</td>\n",
       "    </tr>\n",
       "    <tr>\n",
       "      <th>3</th>\n",
       "      <td>Linchpin</td>\n",
       "      <td>ACLC</td>\n",
       "      <td>33778624.0</td>\n",
       "      <td>3.320784e+07</td>\n",
       "    </tr>\n",
       "    <tr>\n",
       "      <th>4</th>\n",
       "      <td>MSG</td>\n",
       "      <td>STGi</td>\n",
       "      <td>13295714.0</td>\n",
       "      <td>1.281063e+07</td>\n",
       "    </tr>\n",
       "  </tbody>\n",
       "</table>\n",
       "</div>"
      ],
      "text/plain": [
       "         Filer    Winner     FilerBid     WinnerBid\n",
       "0        Babel  Dataminr   67500000.0  2.586611e+08\n",
       "1       Amelex   PSI Pax   47905997.0  4.532778e+07\n",
       "2  CenturyLink   Verizon  283790911.0  1.576306e+08\n",
       "3     Linchpin      ACLC   33778624.0  3.320784e+07\n",
       "4          MSG      STGi   13295714.0  1.281063e+07"
      ]
     },
     "execution_count": 97,
     "metadata": {},
     "output_type": "execute_result"
    }
   ],
   "source": [
    "mean_diff = bids[['Filer', 'Winner', 'FilerBid', 'WinnerBid']].copy()\n",
    "mean_diff.head()"
   ]
  },
  {
   "cell_type": "code",
   "execution_count": 99,
   "metadata": {},
   "outputs": [
    {
     "name": "stdout",
     "output_type": "stream",
     "text": [
      "Since the p-value of this significance test is 0.97, we fail to reject the null hypothesis.\n"
     ]
    }
   ],
   "source": [
    "# Quick NHST accomplished with reference to\n",
    "# https://www.w3schools.com/python/scipy/scipy_statistical_significance_tests.php\n",
    "from scipy.stats import ttest_ind\n",
    "\n",
    "filer_bids = mean_diff['FilerBid'].astype(float).values\n",
    "winner_bids = mean_diff['WinnerBid'].astype(float).values\n",
    "\n",
    "result = ttest_ind(filer_bids, winner_bids)\n",
    "\n",
    "print(f\"Since the p-value of this significance test is {round(result.pvalue, 2)}, we fail to reject the null hypothesis.\")"
   ]
  },
  {
   "cell_type": "code",
   "execution_count": 160,
   "metadata": {
    "scrolled": true
   },
   "outputs": [
    {
     "data": {
      "image/png": "[encoded data removed]",
      "text/plain": [
       "<Figure size 576x396 with 1 Axes>"
      ]
     },
     "metadata": {},
     "output_type": "display_data"
    }
   ],
   "source": [
    "# Display the histogram overlay\n",
    "limit = 1e9\n",
    "winner_bids_hist = [bid for bid in winner_bids if (bid < limit)]\n",
    "filer_bids_hist = [bid for bid in filer_bids if (bid < limit)]\n",
    "\n",
    "plt.hist(winner_bids_hist, bins='scott', alpha=0.5, color='#00cfcc')\n",
    "plt.hist(filer_bids_hist, bins='scott',  alpha=0.5, color='#ff9973')\n",
    "plt.ylabel('Frequency')\n",
    "plt.xlabel('Amount Bid (Billions of Dollars)')\n",
    "plt.xlim([0,limit])\n",
    "plt.title('Contract Bid Distribution')\n",
    "plt.tight_layout()\n",
    "\n",
    "plt.savefig('./Project Screenshots/NHST_overlay.png', dpi=300)"
   ]
  },
  {
   "cell_type": "markdown",
   "metadata": {},
   "source": [
    "## Winner Bid Higher"
   ]
  },
  {
   "cell_type": "code",
   "execution_count": 7,
   "metadata": {},
   "outputs": [
    {
     "name": "stdout",
     "output_type": "stream",
     "text": [
      "Number of winners with higher bids: 310\n",
      "Percentage of winners with higher bids: 46.27%\n"
     ]
    }
   ],
   "source": [
    "bids['WinnerBidHigher'] = bids['WinnerBid'] > bids['FilerBid']\n",
    "# Number of times the winner recieved a\n",
    "# higher bid\n",
    "winners_with_higher_bids = len(bids[bids['WinnerBidHigher'] == True])\n",
    "winners_with_higher_bids_pct = winners_with_higher_bids / len(bids)\n",
    "print(f\"Number of winners with higher bids: {winners_with_higher_bids}\")\n",
    "print(f\"Percentage of winners with higher bids: {round(winners_with_higher_bids_pct, 4) * 100}%\")"
   ]
  },
  {
   "cell_type": "markdown",
   "metadata": {},
   "source": [
    "## Quality Premium"
   ]
  },
  {
   "cell_type": "code",
   "execution_count": 8,
   "metadata": {},
   "outputs": [
    {
     "name": "stdout",
     "output_type": "stream",
     "text": [
      "On average, winning bids ask for ~1.82 % more than their competitors.\n"
     ]
    }
   ],
   "source": [
    "bids['Premium'] = (bids['WinnerBid'] / bids['FilerBid']) - 1\n",
    "\n",
    "print(f\"On average, winning bids ask for ~{round(bids['Premium'].mean() * 100, 2)} % more than their competitors.\")"
   ]
  },
  {
   "cell_type": "code",
   "execution_count": 9,
   "metadata": {},
   "outputs": [
    {
     "data": {
      "image/png": "[encoded data removed]",
      "text/plain": [
       "<Figure size 432x288 with 1 Axes>"
      ]
     },
     "metadata": {
      "needs_background": "light"
     },
     "output_type": "display_data"
    }
   ],
   "source": [
    "plt.hist(bids['Premium'], bins='scott', color=)\n",
    "plt.title('Bid Price Premium Histogram')\n",
    "plt.xlabel('Premium')\n",
    "plt.ylabel('Frequency');"
   ]
  },
  {
   "cell_type": "markdown",
   "metadata": {},
   "source": [
    "## Classification - Will you win the contract?"
   ]
  },
  {
   "cell_type": "code",
   "execution_count": 49,
   "metadata": {
    "scrolled": false
   },
   "outputs": [
    {
     "data": {
      "text/html": [
       "<div>\n",
       "<style scoped>\n",
       "    .dataframe tbody tr th:only-of-type {\n",
       "        vertical-align: middle;\n",
       "    }\n",
       "\n",
       "    .dataframe tbody tr th {\n",
       "        vertical-align: top;\n",
       "    }\n",
       "\n",
       "    .dataframe thead th {\n",
       "        text-align: right;\n",
       "    }\n",
       "</style>\n",
       "<table border=\"1\" class=\"dataframe\">\n",
       "  <thead>\n",
       "    <tr style=\"text-align: right;\">\n",
       "      <th></th>\n",
       "      <th>Company</th>\n",
       "      <th>technical</th>\n",
       "      <th>past performance</th>\n",
       "      <th>personnel</th>\n",
       "      <th>management</th>\n",
       "      <th>experience</th>\n",
       "      <th>small business</th>\n",
       "      <th>Bid</th>\n",
       "      <th>WonContract</th>\n",
       "      <th>URL</th>\n",
       "    </tr>\n",
       "  </thead>\n",
       "  <tbody>\n",
       "    <tr>\n",
       "      <th>71</th>\n",
       "      <td>M.C. Dean</td>\n",
       "      <td>0.50</td>\n",
       "      <td>1.00</td>\n",
       "      <td>0.00</td>\n",
       "      <td>0.5</td>\n",
       "      <td>0.0</td>\n",
       "      <td>0.00</td>\n",
       "      <td>1.415628e+06</td>\n",
       "      <td>1</td>\n",
       "      <td>https://www.gao.gov/products/b-418489.3%2Cb-41...</td>\n",
       "    </tr>\n",
       "    <tr>\n",
       "      <th>438</th>\n",
       "      <td>Soliel</td>\n",
       "      <td>1.00</td>\n",
       "      <td>1.00</td>\n",
       "      <td>0.00</td>\n",
       "      <td>0.0</td>\n",
       "      <td>0.0</td>\n",
       "      <td>0.00</td>\n",
       "      <td>5.488898e+06</td>\n",
       "      <td>1</td>\n",
       "      <td>https://www.gao.gov/products/b-410591%2Cb-4105...</td>\n",
       "    </tr>\n",
       "    <tr>\n",
       "      <th>941</th>\n",
       "      <td>Engility</td>\n",
       "      <td>0.50</td>\n",
       "      <td>-0.25</td>\n",
       "      <td>0.00</td>\n",
       "      <td>0.5</td>\n",
       "      <td>0.5</td>\n",
       "      <td>0.00</td>\n",
       "      <td>3.889420e+07</td>\n",
       "      <td>0</td>\n",
       "      <td>https://www.gao.gov/products/b-413120.3%2Cb-41...</td>\n",
       "    </tr>\n",
       "    <tr>\n",
       "      <th>446</th>\n",
       "      <td>Exelis</td>\n",
       "      <td>1.00</td>\n",
       "      <td>1.00</td>\n",
       "      <td>0.00</td>\n",
       "      <td>0.0</td>\n",
       "      <td>0.0</td>\n",
       "      <td>1.00</td>\n",
       "      <td>5.167565e+08</td>\n",
       "      <td>1</td>\n",
       "      <td>https://www.gao.gov/products/b-410329%2Cb-4103...</td>\n",
       "    </tr>\n",
       "    <tr>\n",
       "      <th>860</th>\n",
       "      <td>LOGC2</td>\n",
       "      <td>0.00</td>\n",
       "      <td>0.00</td>\n",
       "      <td>0.00</td>\n",
       "      <td>0.0</td>\n",
       "      <td>0.0</td>\n",
       "      <td>0.00</td>\n",
       "      <td>5.076221e+07</td>\n",
       "      <td>0</td>\n",
       "      <td>https://www.gao.gov/products/b-416075</td>\n",
       "    </tr>\n",
       "    <tr>\n",
       "      <th>988</th>\n",
       "      <td>DISCOVER</td>\n",
       "      <td>0.75</td>\n",
       "      <td>0.00</td>\n",
       "      <td>-0.75</td>\n",
       "      <td>0.0</td>\n",
       "      <td>0.0</td>\n",
       "      <td>0.00</td>\n",
       "      <td>2.956370e+07</td>\n",
       "      <td>0</td>\n",
       "      <td>https://www.gao.gov/products/b-412773%2Cb-4127...</td>\n",
       "    </tr>\n",
       "    <tr>\n",
       "      <th>907</th>\n",
       "      <td>Centerra</td>\n",
       "      <td>0.00</td>\n",
       "      <td>0.85</td>\n",
       "      <td>0.00</td>\n",
       "      <td>0.0</td>\n",
       "      <td>0.0</td>\n",
       "      <td>0.85</td>\n",
       "      <td>2.759320e+08</td>\n",
       "      <td>0</td>\n",
       "      <td>https://www.gao.gov/products/b-414800%2Cb-4148...</td>\n",
       "    </tr>\n",
       "    <tr>\n",
       "      <th>728</th>\n",
       "      <td>Pond</td>\n",
       "      <td>0.00</td>\n",
       "      <td>1.00</td>\n",
       "      <td>0.00</td>\n",
       "      <td>0.0</td>\n",
       "      <td>0.0</td>\n",
       "      <td>0.00</td>\n",
       "      <td>3.310869e+07</td>\n",
       "      <td>0</td>\n",
       "      <td>https://www.gao.gov/products/b-418403</td>\n",
       "    </tr>\n",
       "    <tr>\n",
       "      <th>1210</th>\n",
       "      <td>DSI</td>\n",
       "      <td>0.75</td>\n",
       "      <td>0.85</td>\n",
       "      <td>0.00</td>\n",
       "      <td>0.0</td>\n",
       "      <td>0.0</td>\n",
       "      <td>0.00</td>\n",
       "      <td>4.909618e+07</td>\n",
       "      <td>0</td>\n",
       "      <td>https://www.gao.gov/products/b-402067</td>\n",
       "    </tr>\n",
       "    <tr>\n",
       "      <th>564</th>\n",
       "      <td>Sundt</td>\n",
       "      <td>0.85</td>\n",
       "      <td>0.00</td>\n",
       "      <td>0.00</td>\n",
       "      <td>0.0</td>\n",
       "      <td>0.0</td>\n",
       "      <td>0.00</td>\n",
       "      <td>1.398741e+07</td>\n",
       "      <td>1</td>\n",
       "      <td>https://www.gao.gov/products/b-403227%2Cb-4032...</td>\n",
       "    </tr>\n",
       "  </tbody>\n",
       "</table>\n",
       "</div>"
      ],
      "text/plain": [
       "        Company  technical  past performance  personnel  management  \\\n",
       "71    M.C. Dean       0.50              1.00       0.00         0.5   \n",
       "438      Soliel       1.00              1.00       0.00         0.0   \n",
       "941    Engility       0.50             -0.25       0.00         0.5   \n",
       "446      Exelis       1.00              1.00       0.00         0.0   \n",
       "860       LOGC2       0.00              0.00       0.00         0.0   \n",
       "988    DISCOVER       0.75              0.00      -0.75         0.0   \n",
       "907    Centerra       0.00              0.85       0.00         0.0   \n",
       "728        Pond       0.00              1.00       0.00         0.0   \n",
       "1210        DSI       0.75              0.85       0.00         0.0   \n",
       "564       Sundt       0.85              0.00       0.00         0.0   \n",
       "\n",
       "      experience  small business           Bid  WonContract  \\\n",
       "71           0.0            0.00  1.415628e+06            1   \n",
       "438          0.0            0.00  5.488898e+06            1   \n",
       "941          0.5            0.00  3.889420e+07            0   \n",
       "446          0.0            1.00  5.167565e+08            1   \n",
       "860          0.0            0.00  5.076221e+07            0   \n",
       "988          0.0            0.00  2.956370e+07            0   \n",
       "907          0.0            0.85  2.759320e+08            0   \n",
       "728          0.0            0.00  3.310869e+07            0   \n",
       "1210         0.0            0.00  4.909618e+07            0   \n",
       "564          0.0            0.00  1.398741e+07            1   \n",
       "\n",
       "                                                    URL  \n",
       "71    https://www.gao.gov/products/b-418489.3%2Cb-41...  \n",
       "438   https://www.gao.gov/products/b-410591%2Cb-4105...  \n",
       "941   https://www.gao.gov/products/b-413120.3%2Cb-41...  \n",
       "446   https://www.gao.gov/products/b-410329%2Cb-4103...  \n",
       "860               https://www.gao.gov/products/b-416075  \n",
       "988   https://www.gao.gov/products/b-412773%2Cb-4127...  \n",
       "907   https://www.gao.gov/products/b-414800%2Cb-4148...  \n",
       "728               https://www.gao.gov/products/b-418403  \n",
       "1210              https://www.gao.gov/products/b-402067  \n",
       "564   https://www.gao.gov/products/b-403227%2Cb-4032...  "
      ]
     },
     "execution_count": 49,
     "metadata": {},
     "output_type": "execute_result"
    }
   ],
   "source": [
    "rated_bids = bids.dropna(thresh=8)\n",
    "\n",
    "# Winning Bids\n",
    "winning_bids = rated_bids[['Winner', 'WinnerBid', 'Winner_technical', 'Winner_past performance', 'Winner_personnel', 'Winner_management', 'Winner_experience', 'Winner_small business', 'URL']].copy()\n",
    "winning_bids.rename({'Winner': 'Company', 'WinnerBid': 'Bid', 'Winner_technical': 'technical',  'Winner_past performance': 'past performance',  'Winner_personnel': 'personnel',  'Winner_management': 'management',  'Winner_experience': 'experience',  'Winner_small business': 'small business'}, axis=1, inplace=True)\n",
    "winning_bids['WonContract'] = 1\n",
    "\n",
    "# Losing bids\n",
    "losing_bids = rated_bids[['Filer', 'FilerBid', 'Filer_technical', 'Filer_past performance', 'Filer_personnel', 'Filer_management', 'Filer_experience', 'Filer_small business', 'URL']].copy()\n",
    "losing_bids.rename({'Filer': 'Company', 'FilerBid': 'Bid', 'Filer_technical': 'technical',  'Filer_past performance': 'past performance',  'Filer_personnel': 'personnel',  'Filer_management': 'management',  'Filer_experience': 'experience',  'Filer_small business': 'small business'}, axis=1, inplace=True)\n",
    "losing_bids['WonContract'] = 0\n",
    "\n",
    "# Balanced dataset consisting of companies, their ratings, and\n",
    "# whether or not they won the government contract\n",
    "contracts = pd.concat([winning_bids, losing_bids]).reset_index(drop=True)\n",
    "\n",
    "contracts = contracts[['Company', 'technical', 'past performance', \n",
    "                      'personnel', 'management', 'experience', \n",
    "                      'small business', 'Bid', 'WonContract', \n",
    "                      'URL']]\n",
    "\n",
    "# Drop contracts that don't have at least\n",
    "# one measured performance metric\n",
    "contracts.dropna(thresh=5, inplace=True)\n",
    "\n",
    "# Fill null values with 0 (neutral) value\n",
    "contracts.fillna(0, inplace=True)\n",
    "\n",
    "contracts.sample(10)"
   ]
  },
  {
   "cell_type": "markdown",
   "metadata": {},
   "source": [
    "# Modeling"
   ]
  },
  {
   "cell_type": "code",
   "execution_count": 27,
   "metadata": {},
   "outputs": [],
   "source": [
    "from sklearn.model_selection import train_test_split\n",
    "from sklearn.preprocessing import StandardScaler\n",
    "from sklearn.model_selection import GridSearchCV\n",
    "from sklearn.metrics import classification_report"
   ]
  },
  {
   "cell_type": "code",
   "execution_count": 34,
   "metadata": {},
   "outputs": [],
   "source": [
    "# Separate our dataset into input variables (X) and our\n",
    "# output variable (y) to prepare our dataset for a \n",
    "# variety of different models\n",
    "X = contracts[['technical', 'past performance', 'personnel', 'management', \n",
    "               'experience', 'small business', 'Bid']]\n",
    "\n",
    "y = contracts[['WonContract']]\n",
    "\n",
    "# Separate into training and testing sets\n",
    "X_train, X_test, y_train, y_test = train_test_split(X, y, test_size=0.2, random_state=0)\n",
    "\n",
    "# Scale our data to get the contract bid values \n",
    "# under control\n",
    "scaler = StandardScaler()\n",
    "X_train_sc = scaler.fit_transform(X_train)\n",
    "X_test_sc  = scaler.transform(X_test)"
   ]
  },
  {
   "cell_type": "markdown",
   "metadata": {},
   "source": [
    "## Model 0 - Baseline"
   ]
  },
  {
   "cell_type": "code",
   "execution_count": 35,
   "metadata": {},
   "outputs": [
    {
     "name": "stdout",
     "output_type": "stream",
     "text": [
      "Baseline Pct Accuracy: 0.5217391304347826\n"
     ]
    }
   ],
   "source": [
    "# Since this is a completely balanced dataset, the baseline\n",
    "# will be to always predict 1\n",
    "baseline_results = y_test == 1\n",
    "predicted_winners, = baseline_results.sum().values  \n",
    "baseline = predicted_winners / len(y_test)\n",
    "\n",
    "print(f'Baseline Pct Accuracy: {baseline}')"
   ]
  },
  {
   "cell_type": "markdown",
   "metadata": {},
   "source": [
    "## Model 1 - Logistic Regression"
   ]
  },
  {
   "cell_type": "code",
   "execution_count": 36,
   "metadata": {},
   "outputs": [
    {
     "name": "stdout",
     "output_type": "stream",
     "text": [
      "              precision    recall  f1-score   support\n",
      "\n",
      "           0       0.59      0.63      0.61       121\n",
      "           1       0.64      0.61      0.62       132\n",
      "\n",
      "    accuracy                           0.62       253\n",
      "   macro avg       0.62      0.62      0.62       253\n",
      "weighted avg       0.62      0.62      0.62       253\n",
      "\n"
     ]
    },
    {
     "name": "stderr",
     "output_type": "stream",
     "text": [
      "C:\\Users\\William\\anaconda3\\envs\\snakes\\lib\\site-packages\\sklearn\\utils\\validation.py:72: DataConversionWarning: A column-vector y was passed when a 1d array was expected. Please change the shape of y to (n_samples, ), for example using ravel().\n",
      "  return f(**kwargs)\n"
     ]
    }
   ],
   "source": [
    "# Import our model class\n",
    "from sklearn.linear_model import LogisticRegression\n",
    "\n",
    "# Substantiate our model on our scaled training input\n",
    "lr = LogisticRegression(random_state=0).fit(X_train_sc, y_train)\n",
    "\n",
    "# Use this model to predict our contract proposal result\n",
    "lr_results = lr.predict(X_test_sc)\n",
    "\n",
    "# Evaluate this model with a confusion matrix\n",
    "from sklearn.metrics import classification_report\n",
    "print(classification_report(y_test, lr_results))"
   ]
  },
  {
   "cell_type": "markdown",
   "metadata": {},
   "source": [
    "## Model 2 - KNN"
   ]
  },
  {
   "cell_type": "code",
   "execution_count": 120,
   "metadata": {},
   "outputs": [
    {
     "name": "stdout",
     "output_type": "stream",
     "text": [
      "{'algorithm': 'auto', 'n_neighbors': 29, 'weights': 'uniform'}\n",
      "              precision    recall  f1-score   support\n",
      "\n",
      "           0       0.58      0.51      0.55       121\n",
      "           1       0.60      0.67      0.63       132\n",
      "\n",
      "    accuracy                           0.59       253\n",
      "   macro avg       0.59      0.59      0.59       253\n",
      "weighted avg       0.59      0.59      0.59       253\n",
      "\n"
     ]
    },
    {
     "name": "stderr",
     "output_type": "stream",
     "text": [
      "C:\\Users\\William\\anaconda3\\envs\\snakes\\lib\\site-packages\\sklearn\\model_selection\\_search.py:765: DataConversionWarning: A column-vector y was passed when a 1d array was expected. Please change the shape of y to (n_samples, ), for example using ravel().\n",
      "  self.best_estimator_.fit(X, y, **fit_params)\n"
     ]
    }
   ],
   "source": [
    "from sklearn.neighbors import KNeighborsClassifier\n",
    "\n",
    "# Define which parameters to try\n",
    "parameters = {'n_neighbors': [i for i in range(1, 50)], \n",
    "              'weights': ('uniform', 'distance'),\n",
    "              'algorithm': ('auto', 'ball_tree', 'kd_tree', 'brute')}\n",
    "\n",
    "# Use grid search to try all possible parameter combinations\n",
    "knn = GridSearchCV(KNeighborsClassifier(), parameters, n_jobs=-1)\n",
    "knn.fit(X_train_sc, y_train)\n",
    "knn_results = knn.predict(X_test_sc)\n",
    "\n",
    "print(knn.best_params_)\n",
    "print(classification_report(y_test, knn_results))"
   ]
  },
  {
   "cell_type": "markdown",
   "metadata": {},
   "source": [
    "## Model 3 - Random Forest Classifier"
   ]
  },
  {
   "cell_type": "code",
   "execution_count": 38,
   "metadata": {},
   "outputs": [
    {
     "name": "stderr",
     "output_type": "stream",
     "text": [
      "C:\\Users\\William\\anaconda3\\envs\\snakes\\lib\\site-packages\\sklearn\\model_selection\\_search.py:765: DataConversionWarning: A column-vector y was passed when a 1d array was expected. Please change the shape of y to (n_samples,), for example using ravel().\n",
      "  self.best_estimator_.fit(X, y, **fit_params)\n"
     ]
    },
    {
     "name": "stdout",
     "output_type": "stream",
     "text": [
      "{'criterion': 'gini', 'max_depth': 2, 'n_estimators': 500}\n",
      "              precision    recall  f1-score   support\n",
      "\n",
      "           0       0.65      0.59      0.61       121\n",
      "           1       0.65      0.70      0.68       132\n",
      "\n",
      "    accuracy                           0.65       253\n",
      "   macro avg       0.65      0.65      0.65       253\n",
      "weighted avg       0.65      0.65      0.65       253\n",
      "\n"
     ]
    }
   ],
   "source": [
    "from sklearn.ensemble import RandomForestClassifier\n",
    "\n",
    "parameters = {'n_estimators': (100, 500),\n",
    "              'max_depth': (2, 3, 4, 5),\n",
    "              'criterion': ('gini', 'entropy')}\n",
    "\n",
    "rf = GridSearchCV(RandomForestClassifier(), parameters, n_jobs=-1)\n",
    "rf.fit(X_train_sc, y_train)\n",
    "rf_results = rf.predict(X_test_sc)\n",
    "\n",
    "print(rf.best_params_)\n",
    "print(classification_report(y_test, rf_results))"
   ]
  },
  {
   "cell_type": "markdown",
   "metadata": {},
   "source": [
    "## Model 4 - XGBoost"
   ]
  },
  {
   "cell_type": "code",
   "execution_count": 42,
   "metadata": {},
   "outputs": [
    {
     "name": "stdout",
     "output_type": "stream",
     "text": [
      "{'eta': 0.1, 'lambda': 0.15, 'max_depth': 2, 'n_estimators': 20, 'sampling_method': 'uniform'}\n",
      "              precision    recall  f1-score   support\n",
      "\n",
      "           0       0.68      0.55      0.61       121\n",
      "           1       0.65      0.77      0.70       132\n",
      "\n",
      "    accuracy                           0.66       253\n",
      "   macro avg       0.67      0.66      0.66       253\n",
      "weighted avg       0.67      0.66      0.66       253\n",
      "\n"
     ]
    },
    {
     "name": "stderr",
     "output_type": "stream",
     "text": [
      "C:\\Users\\William\\anaconda3\\envs\\snakes\\lib\\site-packages\\sklearn\\utils\\validation.py:72: DataConversionWarning: A column-vector y was passed when a 1d array was expected. Please change the shape of y to (n_samples, ), for example using ravel().\n",
      "  return f(**kwargs)\n"
     ]
    }
   ],
   "source": [
    "from xgboost import XGBClassifier\n",
    "\n",
    "parameters = {'n_estimators': (5, 10, 15, 20),\n",
    "              'max_depth': [2],\n",
    "              'eta': [0.1, 0.15, 0.2, 0.25],\n",
    "              'lambda': [0.1, 0.15, 0.2, 0.25, 0.3],\n",
    "              'sampling_method': ['uniform']}\n",
    "\n",
    "xgbc = GridSearchCV(XGBClassifier(), parameters, n_jobs=-1)\n",
    "xgbc.fit(X_train_sc, y_train)\n",
    "xgbc_results = xgbc.predict(X_test_sc)\n",
    "\n",
    "print(xgbc.best_params_)\n",
    "print(classification_report(y_test, xgbc_results))"
   ]
  },
  {
   "cell_type": "markdown",
   "metadata": {},
   "source": [
    "## Generate a grouped bar chart comparing model results"
   ]
  },
  {
   "cell_type": "code",
   "execution_count": 149,
   "metadata": {},
   "outputs": [
    {
     "data": {
      "image/png": "[encoded data removed]",
      "text/plain": [
       "<Figure size 576x396 with 1 Axes>"
      ]
     },
     "metadata": {},
     "output_type": "display_data"
    }
   ],
   "source": [
    "# Grouped bar chart code retrieved from\n",
    "# https://matplotlib.org/stable/gallery/lines_bars_and_markers/barchart.html\n",
    "\n",
    "labels = ['Baseline', 'KNN', 'Logistic', 'Random Forest', 'XGBoost']\n",
    "\n",
    "baseline_int = int(baseline * 100)\n",
    "scores = [baseline_int, 59, 62, 65, 66]\n",
    "pct_improvement = [((score - baseline_int) / baseline_int) * 100 for score in scores]\n",
    "\n",
    "x = np.arange(len(labels))  # the label locations\n",
    "width = 0.35  # the width of the bars\n",
    "\n",
    "fig, ax = plt.subplots()\n",
    "rects1 = ax.bar(x - width/2, scores, width, label='Accuracy', color='#002845')\n",
    "rects2 = ax.bar(x + width/2, pct_improvement, width, label='Baseline Improvement', color='#00cfcc')\n",
    "\n",
    "# Add some text for labels, title and custom x-axis tick labels, etc.\n",
    "ax.set_ylabel('Percent')\n",
    "ax.set_title('Scores by Model Used')\n",
    "ax.set_xticks(x)\n",
    "ax.set_xticklabels(labels)\n",
    "ax.legend()\n",
    "\n",
    "ax.set_label(rects1,)\n",
    "ax.set_label(rects2,)\n",
    "\n",
    "fig.tight_layout()\n",
    "\n",
    "plt.savefig('./Project Screenshots/ModelPerformance.png', dpi=300)"
   ]
  },
  {
   "cell_type": "code",
   "execution_count": null,
   "metadata": {},
   "outputs": [],
   "source": []
  }
 ],
 "metadata": {
  "kernelspec": {
   "display_name": "Python 3",
   "language": "python",
   "name": "python3"
  },
  "language_info": {
   "codemirror_mode": {
    "name": "ipython",
    "version": 3
   },
   "file_extension": ".py",
   "mimetype": "text/x-python",
   "name": "python",
   "nbconvert_exporter": "python",
   "pygments_lexer": "ipython3",
   "version": "3.8.5"
  }
 },
 "nbformat": 4,
 "nbformat_minor": 4
}
